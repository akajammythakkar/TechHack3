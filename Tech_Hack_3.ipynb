{
  "nbformat": 4,
  "nbformat_minor": 0,
  "metadata": {
    "colab": {
      "provenance": []
    },
    "kernelspec": {
      "name": "python3",
      "display_name": "Python 3"
    },
    "language_info": {
      "name": "python"
    }
  },
  "cells": [
    {
      "cell_type": "markdown",
      "source": [
        "# Before proceeding, go to \"File\" and select option \"Save a copy in drive\" then and only then proceed. <br>\n",
        "# <font color=\"red\">  YOU WILL NOT BE ABLE TO SAVE CHANGES IN THIS NOTEBOOK </font>"
      ],
      "metadata": {
        "id": "UnGEs6Xb6DpJ"
      }
    },
    {
      "cell_type": "markdown",
      "source": [
        "## Set the API key"
      ],
      "metadata": {
        "id": "zChzuoVO6GVT"
      }
    },
    {
      "cell_type": "markdown",
      "source": [
        "\n",
        "## **Add your API_KEY to the secrets manager in the left pannel \"🔑\".**\n",
        "\n",
        "#### To get api key follw the steps:\n",
        "  - go to https://aistudio.google.com/\n",
        "  - If you are a first time user then you'll be asked for privacy and agreement\n",
        "  - After accepting navigate to the left panel.\n",
        "  - You will find a button saying \"Get API Key\" placed exactly below google ai studio, click that.\n",
        "  - Then you will be redirected to API keys page.\n",
        "  - There will be a button saying \"Create API key in new project\", click that.\n",
        "  - After that you will get your api key in few moments.\n",
        "  - Copy that and paste it in key secrets in google colab."
      ],
      "metadata": {
        "id": "MZXxng9f6G12"
      }
    },
    {
      "cell_type": "markdown",
      "source": [
        "##### Install Library"
      ],
      "metadata": {
        "id": "OO0Tj0i1_iZv"
      }
    },
    {
      "cell_type": "code",
      "source": [
        "\"\"\"\n",
        "At the command line, only need to run once to install the package via pip:\n",
        "\n",
        "$ pip install google-generativeai\n",
        "\"\"\""
      ],
      "metadata": {
        "colab": {
          "base_uri": "https://localhost:8080/",
          "height": 36
        },
        "id": "1GJKPpi5_hfa",
        "outputId": "3802b6b5-7137-4317-8ae2-b139f330a1f0"
      },
      "execution_count": null,
      "outputs": [
        {
          "output_type": "execute_result",
          "data": {
            "text/plain": [
              "'\\nAt the command line, only need to run once to install the package via pip:\\n\\n$ pip install google-generativeai\\n'"
            ],
            "application/vnd.google.colaboratory.intrinsic+json": {
              "type": "string"
            }
          },
          "metadata": {},
          "execution_count": 1
        }
      ]
    },
    {
      "cell_type": "markdown",
      "source": [
        "#### Import Libraries"
      ],
      "metadata": {
        "id": "GBqthZT__mi4"
      }
    },
    {
      "cell_type": "code",
      "execution_count": null,
      "metadata": {
        "id": "sJ5bxHzk5c1z"
      },
      "outputs": [],
      "source": [
        "from pathlib import Path\n",
        "import hashlib\n",
        "import google.generativeai as genai\n",
        "from google.colab import userdata # To get API key from Env\n",
        "genai.configure(api_key=userdata.get('API_KEY'))"
      ]
    },
    {
      "cell_type": "code",
      "source": [
        "\n",
        "# Set up the model\n",
        "generation_config = {\n",
        "  \"temperature\": 0.4,\n",
        "  \"top_p\": 1,\n",
        "  \"top_k\": 32,\n",
        "  \"max_output_tokens\": 4096,\n",
        "}\n",
        "\n",
        "# Set up safety satings\n",
        "safety_settings = [\n",
        "  {\n",
        "    \"category\": \"HARM_CATEGORY_HARASSMENT\",\n",
        "    \"threshold\": \"BLOCK_MEDIUM_AND_ABOVE\"\n",
        "  },\n",
        "  {\n",
        "    \"category\": \"HARM_CATEGORY_HATE_SPEECH\",\n",
        "    \"threshold\": \"BLOCK_MEDIUM_AND_ABOVE\"\n",
        "  },\n",
        "  {\n",
        "    \"category\": \"HARM_CATEGORY_SEXUALLY_EXPLICIT\",\n",
        "    \"threshold\": \"BLOCK_MEDIUM_AND_ABOVE\"\n",
        "  },\n",
        "  {\n",
        "    \"category\": \"HARM_CATEGORY_DANGEROUS_CONTENT\",\n",
        "    \"threshold\": \"BLOCK_MEDIUM_AND_ABOVE\"\n",
        "  },\n",
        "]"
      ],
      "metadata": {
        "id": "FZ9JwJqp5l9n"
      },
      "execution_count": null,
      "outputs": []
    },
    {
      "cell_type": "code",
      "source": [
        "# Define Model\n",
        "model = genai.GenerativeModel(model_name=\"gemini-1.0-pro-vision-latest\",\n",
        "                              generation_config=generation_config,\n",
        "                              safety_settings=safety_settings)"
      ],
      "metadata": {
        "id": "H8M5vxIb6oKl"
      },
      "execution_count": null,
      "outputs": []
    },
    {
      "cell_type": "code",
      "source": [
        "uploaded_files = [] #list to store uploaded file paths\n",
        "image_path = \"/content/Untitled.jpg\" #image path\n",
        "\n",
        "# Function to upload files (will only upload if needed), limitation: if your file path is not exisiting, it will throw an error\n",
        "def upload_if_needed(pathname: str) -> list[str]:\n",
        "  path = Path(pathname)\n",
        "  hash_id = hashlib.sha256(path.read_bytes()).hexdigest()\n",
        "  try:\n",
        "    existing_file = genai.get_file(name=hash_id)\n",
        "    return [existing_file]\n",
        "  except:\n",
        "    pass\n",
        "  uploaded_files.append(genai.upload_file(path=path, display_name=hash_id))\n",
        "  return [uploaded_files[-1]]"
      ],
      "metadata": {
        "id": "WdAlTm_b5rdg"
      },
      "execution_count": null,
      "outputs": []
    },
    {
      "cell_type": "code",
      "source": [
        "# Defining Prompt\n",
        "prompt_parts = [\n",
        "  \"What does this image has?\\n\",\n",
        "  *upload_if_needed(image_path),\n",
        "  \"\\n\",\n",
        "]"
      ],
      "metadata": {
        "id": "R1f_y2Vs7m9r"
      },
      "execution_count": null,
      "outputs": []
    },
    {
      "cell_type": "code",
      "source": [
        "# Sending request to gemini 1.0 vision\n",
        "response = model.generate_content(prompt_parts)\n",
        "print(response.text) #printing response"
      ],
      "metadata": {
        "colab": {
          "base_uri": "https://localhost:8080/",
          "height": 35
        },
        "id": "9opw3oSl6q2Q",
        "outputId": "418bae14-d040-40ac-f96f-a00b73495b25"
      },
      "execution_count": null,
      "outputs": [
        {
          "output_type": "stream",
          "name": "stdout",
          "text": [
            " This is an image of a horse. It is a brown horse with a long flowing mane and tail. The horse is running and looks very graceful.\n"
          ]
        }
      ]
    },
    {
      "cell_type": "code",
      "source": [],
      "metadata": {
        "id": "NvwDx8PR8Rlu"
      },
      "execution_count": null,
      "outputs": []
    }
  ]
}